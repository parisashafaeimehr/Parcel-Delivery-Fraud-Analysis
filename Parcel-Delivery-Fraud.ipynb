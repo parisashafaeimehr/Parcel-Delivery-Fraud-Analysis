{
 "cells": [
  {
   "cell_type": "code",
   "id": "initial_id",
   "metadata": {
    "collapsed": true,
    "ExecuteTime": {
     "end_time": "2025-10-25T06:05:40.209748Z",
     "start_time": "2025-10-25T06:05:40.198386Z"
    }
   },
   "source": [
    "import pandas as pd \n",
    "import numpy as np\n",
    "import matplotlib as mpl\n",
    "import seaborn as sns\n",
    "import matplotlib.pyplot as plt"
   ],
   "outputs": [],
   "execution_count": 2
  },
  {
   "metadata": {
    "ExecuteTime": {
     "end_time": "2025-10-25T06:33:19.741195Z",
     "start_time": "2025-10-25T06:33:19.725080Z"
    }
   },
   "cell_type": "code",
   "source": [
    "df = pd.read_csv(r\"C:\\Users\\shafaimehr\\PycharmProjects\\Parcel-Delivery-Fraud\\Parcel-Delivery_fraud_dataset.csv\")\n",
    "df.columns"
   ],
   "id": "b9301e97bc22959c",
   "outputs": [
    {
     "data": {
      "text/plain": [
       "Index(['driver_id', 'ride_id', 'pickup_time', 'dropoff_time', 'trip_distance',\n",
       "       'trip_duration', 'status', 'payment_amount', 'rating', 'fraud_flag'],\n",
       "      dtype='object')"
      ]
     },
     "execution_count": 27,
     "metadata": {},
     "output_type": "execute_result"
    }
   ],
   "execution_count": 27
  },
  {
   "metadata": {
    "ExecuteTime": {
     "end_time": "2025-10-22T05:27:11.928502Z",
     "start_time": "2025-10-22T05:27:11.923502Z"
    }
   },
   "cell_type": "code",
   "source": [
    "# Count the number of unique drivers in the dataset\n",
    "unique_drivers = df['driver_id'].nunique()\n",
    "# Print the result\n",
    "print(f\"Number of unique drivers in the dataset: {unique_drivers}\")"
   ],
   "id": "b28a178732654a12",
   "outputs": [
    {
     "name": "stdout",
     "output_type": "stream",
     "text": [
      "Number of unique drivers in the dataset: 200\n"
     ]
    }
   ],
   "execution_count": 10
  },
  {
   "metadata": {
    "ExecuteTime": {
     "end_time": "2025-10-22T05:17:22.538694Z",
     "start_time": "2025-10-22T05:17:22.531247Z"
    }
   },
   "cell_type": "code",
   "source": [
    "# lists top 10 drivers with highest fraud rates.\n",
    "df.groupby('driver_id')['fraud_flag'].mean().sort_values(ascending=False).head(10)"
   ],
   "id": "b6beb18eca43dad",
   "outputs": [
    {
     "data": {
      "text/plain": [
       "driver_id\n",
       "D185    0.300000\n",
       "D016    0.166667\n",
       "D133    0.166667\n",
       "D092    0.153846\n",
       "D141    0.142857\n",
       "D168    0.142857\n",
       "D189    0.142857\n",
       "D039    0.133333\n",
       "D052    0.133333\n",
       "D130    0.133333\n",
       "Name: fraud_flag, dtype: float64"
      ]
     },
     "execution_count": 8,
     "metadata": {},
     "output_type": "execute_result"
    }
   ],
   "execution_count": 8
  },
  {
   "metadata": {
    "ExecuteTime": {
     "end_time": "2025-10-22T05:37:14.896241Z",
     "start_time": "2025-10-22T05:37:14.889840Z"
    }
   },
   "cell_type": "code",
   "source": [
    "# Analyze the overall distribution of fraudulent vs. legitimate rides\n",
    "# Shows what percentage of rides are labeled as fraud\n",
    "fraud_distribution = df['fraud_flag'].value_counts(normalize=True) * 100\n",
    "print(fraud_distribution)"
   ],
   "id": "1c6452842c7284d6",
   "outputs": [
    {
     "name": "stdout",
     "output_type": "stream",
     "text": [
      "fraud_flag\n",
      "0    96.766667\n",
      "1     3.233333\n",
      "Name: proportion, dtype: float64\n"
     ]
    }
   ],
   "execution_count": 11
  },
  {
   "metadata": {
    "ExecuteTime": {
     "end_time": "2025-10-22T05:39:27.687041Z",
     "start_time": "2025-10-22T05:39:27.681586Z"
    }
   },
   "cell_type": "code",
   "source": [
    "# Calculate fraud rates for each ride status (completed, canceled, suspicious)\n",
    "# Helps to understand which statuses are more prone to fraud\n",
    "fraud_by_status = df.groupby('status')['fraud_flag'].mean()\n",
    "print(fraud_by_status)"
   ],
   "id": "198626f13e08a69d",
   "outputs": [
    {
     "name": "stdout",
     "output_type": "stream",
     "text": [
      "status\n",
      "canceled      0.0\n",
      "completed     0.0\n",
      "suspicious    1.0\n",
      "Name: fraud_flag, dtype: float64\n"
     ]
    }
   ],
   "execution_count": 12
  },
  {
   "metadata": {
    "ExecuteTime": {
     "end_time": "2025-10-22T05:43:47.027019Z",
     "start_time": "2025-10-22T05:43:47.019254Z"
    }
   },
   "cell_type": "code",
   "source": [
    "# Compare trip distance for fraudulent vs. legitimate rides\n",
    "# Identifies if unusually short or long trips correlate with fraud\n",
    "fraud_distance = df.groupby('fraud_flag')['trip_distance'].mean()\n",
    "print(fraud_distance)"
   ],
   "id": "a560185d51fdb293",
   "outputs": [
    {
     "name": "stdout",
     "output_type": "stream",
     "text": [
      "fraud_flag\n",
      "0    12.858091\n",
      "1     8.981032\n",
      "Name: trip_distance, dtype: float64\n"
     ]
    }
   ],
   "execution_count": 14
  },
  {
   "metadata": {
    "ExecuteTime": {
     "end_time": "2025-10-22T05:46:45.370383Z",
     "start_time": "2025-10-22T05:46:45.350672Z"
    }
   },
   "cell_type": "code",
   "source": [
    "# Add pickup hour and analyze fraud occurrence by time of day\n",
    "# Reveals potential time patterns in fraudulent rides\n",
    "df['pickup_hour'] = pd.to_datetime(df['pickup_time']).dt.hour\n",
    "fraud_by_hour = df.groupby('pickup_hour')['fraud_flag'].mean()\n",
    "print(fraud_by_hour)"
   ],
   "id": "9e838acb147516bd",
   "outputs": [
    {
     "name": "stdout",
     "output_type": "stream",
     "text": [
      "pickup_hour\n",
      "0     0.035088\n",
      "1     0.039604\n",
      "2     0.038168\n",
      "3     0.046512\n",
      "4     0.026786\n",
      "5     0.059322\n",
      "6     0.040816\n",
      "7     0.030303\n",
      "8     0.023810\n",
      "9     0.018182\n",
      "10    0.052239\n",
      "11    0.025210\n",
      "12    0.015873\n",
      "13    0.023810\n",
      "14    0.046875\n",
      "15    0.040000\n",
      "16    0.059829\n",
      "17    0.037594\n",
      "18    0.016260\n",
      "19    0.008197\n",
      "20    0.017241\n",
      "21    0.030075\n",
      "22    0.029851\n",
      "23    0.013889\n",
      "Name: fraud_flag, dtype: float64\n"
     ]
    }
   ],
   "execution_count": 15
  },
  {
   "metadata": {
    "ExecuteTime": {
     "end_time": "2025-10-22T05:54:14.215680Z",
     "start_time": "2025-10-22T05:54:14.199419Z"
    }
   },
   "cell_type": "code",
   "source": [
    "# Create a summary table for each driver including total rides and fraud rate\n",
    "# Provides a complete profile for fraud risk assessment\n",
    "driver_summary = df.groupby('driver_id').agg(\n",
    "    total_rides=('ride_id','count'),\n",
    "    fraud_rate=('fraud_flag','mean')\n",
    ").sort_values(by='fraud_rate', ascending=False)\n",
    "print(driver_summary.head(10))"
   ],
   "id": "29268eb7db29e4c3",
   "outputs": [
    {
     "name": "stdout",
     "output_type": "stream",
     "text": [
      "           total_rides  fraud_rate\n",
      "driver_id                         \n",
      "D185                10    0.300000\n",
      "D016                12    0.166667\n",
      "D133                12    0.166667\n",
      "D092                13    0.153846\n",
      "D141                14    0.142857\n",
      "D168                14    0.142857\n",
      "D189                21    0.142857\n",
      "D039                15    0.133333\n",
      "D052                15    0.133333\n",
      "D130                15    0.133333\n"
     ]
    }
   ],
   "execution_count": 17
  },
  {
   "metadata": {
    "ExecuteTime": {
     "end_time": "2025-10-25T06:35:04.980490Z",
     "start_time": "2025-10-25T06:35:04.963975Z"
    }
   },
   "cell_type": "code",
   "source": [
    "########## Scenario 1: Unusual Trip Duration\n",
    "# Detect rides with abnormal trip duration compared to similar distances.\n",
    "# Long or short durations may indicate fake trips or GPS manipulation.\n",
    "\n",
    "df['duration_per_km'] = df['trip_duration'] / df['trip_distance']\n",
    "Q1 = df['duration_per_km'].quantile(0.25)\n",
    "Q3 = df['duration_per_km'].quantile(0.75)\n",
    "IQR = Q3 - Q1\n",
    "lower, upper = Q1 - 1.5*IQR, Q3 + 1.5*IQR\n",
    "suspicious_duration = df[(df['duration_per_km'] < lower) | (df['duration_per_km'] > upper)]"
   ],
   "id": "28ead55289446516",
   "outputs": [
    {
     "data": {
      "text/plain": [
       "     driver_id ride_id       pickup_time      dropoff_time  trip_distance  \\\n",
       "11        D076   R0012   10/18/2025 2:36   10/18/2025 3:18       2.085455   \n",
       "14        D023   R0015   10/5/2025 22:16   10/5/2025 23:09       1.337916   \n",
       "16        D119   R0017   10/2/2025 22:54   10/2/2025 23:51       3.289843   \n",
       "28        D049   R0029  10/20/2025 12:08  10/20/2025 13:06       4.554086   \n",
       "29        D171   R0030    10/5/2025 7:35    10/5/2025 8:14       2.235490   \n",
       "...        ...     ...               ...               ...            ...   \n",
       "2969      D127   R2970  10/16/2025 18:00  10/16/2025 18:52       2.028096   \n",
       "2970      D107   R2971    10/6/2025 5:48    10/6/2025 6:07       1.531359   \n",
       "2979      D010   R2980    10/5/2025 0:39    10/5/2025 1:34       3.839778   \n",
       "2987      D030   R2988   10/7/2025 15:33   10/7/2025 16:13       4.184369   \n",
       "2999      D075   R3000  10/16/2025 18:48  10/16/2025 19:46       2.496196   \n",
       "\n",
       "      trip_duration      status  payment_amount  rating  fraud_flag  \\\n",
       "11               42   completed            8.52       5           0   \n",
       "14               53  suspicious            8.24       3           1   \n",
       "16               57   completed           18.63       4           0   \n",
       "28               58   completed           31.45       4           0   \n",
       "29               39   completed            8.85       2           0   \n",
       "...             ...         ...             ...     ...         ...   \n",
       "2969             52   completed            7.09       4           0   \n",
       "2970             19  suspicious            5.29       1           1   \n",
       "2979             55   completed           19.34       4           0   \n",
       "2987             40   completed           16.60       4           0   \n",
       "2999             58   completed           15.78       1           0   \n",
       "\n",
       "      duration_per_km  \n",
       "11          20.139491  \n",
       "14          39.613855  \n",
       "16          17.326056  \n",
       "28          12.735815  \n",
       "29          17.445839  \n",
       "...               ...  \n",
       "2969        25.639816  \n",
       "2970        12.407281  \n",
       "2979        14.323746  \n",
       "2987         9.559386  \n",
       "2999        23.235358  \n",
       "\n",
       "[281 rows x 11 columns]"
      ],
      "text/html": [
       "<div>\n",
       "<style scoped>\n",
       "    .dataframe tbody tr th:only-of-type {\n",
       "        vertical-align: middle;\n",
       "    }\n",
       "\n",
       "    .dataframe tbody tr th {\n",
       "        vertical-align: top;\n",
       "    }\n",
       "\n",
       "    .dataframe thead th {\n",
       "        text-align: right;\n",
       "    }\n",
       "</style>\n",
       "<table border=\"1\" class=\"dataframe\">\n",
       "  <thead>\n",
       "    <tr style=\"text-align: right;\">\n",
       "      <th></th>\n",
       "      <th>driver_id</th>\n",
       "      <th>ride_id</th>\n",
       "      <th>pickup_time</th>\n",
       "      <th>dropoff_time</th>\n",
       "      <th>trip_distance</th>\n",
       "      <th>trip_duration</th>\n",
       "      <th>status</th>\n",
       "      <th>payment_amount</th>\n",
       "      <th>rating</th>\n",
       "      <th>fraud_flag</th>\n",
       "      <th>duration_per_km</th>\n",
       "    </tr>\n",
       "  </thead>\n",
       "  <tbody>\n",
       "    <tr>\n",
       "      <th>11</th>\n",
       "      <td>D076</td>\n",
       "      <td>R0012</td>\n",
       "      <td>10/18/2025 2:36</td>\n",
       "      <td>10/18/2025 3:18</td>\n",
       "      <td>2.085455</td>\n",
       "      <td>42</td>\n",
       "      <td>completed</td>\n",
       "      <td>8.52</td>\n",
       "      <td>5</td>\n",
       "      <td>0</td>\n",
       "      <td>20.139491</td>\n",
       "    </tr>\n",
       "    <tr>\n",
       "      <th>14</th>\n",
       "      <td>D023</td>\n",
       "      <td>R0015</td>\n",
       "      <td>10/5/2025 22:16</td>\n",
       "      <td>10/5/2025 23:09</td>\n",
       "      <td>1.337916</td>\n",
       "      <td>53</td>\n",
       "      <td>suspicious</td>\n",
       "      <td>8.24</td>\n",
       "      <td>3</td>\n",
       "      <td>1</td>\n",
       "      <td>39.613855</td>\n",
       "    </tr>\n",
       "    <tr>\n",
       "      <th>16</th>\n",
       "      <td>D119</td>\n",
       "      <td>R0017</td>\n",
       "      <td>10/2/2025 22:54</td>\n",
       "      <td>10/2/2025 23:51</td>\n",
       "      <td>3.289843</td>\n",
       "      <td>57</td>\n",
       "      <td>completed</td>\n",
       "      <td>18.63</td>\n",
       "      <td>4</td>\n",
       "      <td>0</td>\n",
       "      <td>17.326056</td>\n",
       "    </tr>\n",
       "    <tr>\n",
       "      <th>28</th>\n",
       "      <td>D049</td>\n",
       "      <td>R0029</td>\n",
       "      <td>10/20/2025 12:08</td>\n",
       "      <td>10/20/2025 13:06</td>\n",
       "      <td>4.554086</td>\n",
       "      <td>58</td>\n",
       "      <td>completed</td>\n",
       "      <td>31.45</td>\n",
       "      <td>4</td>\n",
       "      <td>0</td>\n",
       "      <td>12.735815</td>\n",
       "    </tr>\n",
       "    <tr>\n",
       "      <th>29</th>\n",
       "      <td>D171</td>\n",
       "      <td>R0030</td>\n",
       "      <td>10/5/2025 7:35</td>\n",
       "      <td>10/5/2025 8:14</td>\n",
       "      <td>2.235490</td>\n",
       "      <td>39</td>\n",
       "      <td>completed</td>\n",
       "      <td>8.85</td>\n",
       "      <td>2</td>\n",
       "      <td>0</td>\n",
       "      <td>17.445839</td>\n",
       "    </tr>\n",
       "    <tr>\n",
       "      <th>...</th>\n",
       "      <td>...</td>\n",
       "      <td>...</td>\n",
       "      <td>...</td>\n",
       "      <td>...</td>\n",
       "      <td>...</td>\n",
       "      <td>...</td>\n",
       "      <td>...</td>\n",
       "      <td>...</td>\n",
       "      <td>...</td>\n",
       "      <td>...</td>\n",
       "      <td>...</td>\n",
       "    </tr>\n",
       "    <tr>\n",
       "      <th>2969</th>\n",
       "      <td>D127</td>\n",
       "      <td>R2970</td>\n",
       "      <td>10/16/2025 18:00</td>\n",
       "      <td>10/16/2025 18:52</td>\n",
       "      <td>2.028096</td>\n",
       "      <td>52</td>\n",
       "      <td>completed</td>\n",
       "      <td>7.09</td>\n",
       "      <td>4</td>\n",
       "      <td>0</td>\n",
       "      <td>25.639816</td>\n",
       "    </tr>\n",
       "    <tr>\n",
       "      <th>2970</th>\n",
       "      <td>D107</td>\n",
       "      <td>R2971</td>\n",
       "      <td>10/6/2025 5:48</td>\n",
       "      <td>10/6/2025 6:07</td>\n",
       "      <td>1.531359</td>\n",
       "      <td>19</td>\n",
       "      <td>suspicious</td>\n",
       "      <td>5.29</td>\n",
       "      <td>1</td>\n",
       "      <td>1</td>\n",
       "      <td>12.407281</td>\n",
       "    </tr>\n",
       "    <tr>\n",
       "      <th>2979</th>\n",
       "      <td>D010</td>\n",
       "      <td>R2980</td>\n",
       "      <td>10/5/2025 0:39</td>\n",
       "      <td>10/5/2025 1:34</td>\n",
       "      <td>3.839778</td>\n",
       "      <td>55</td>\n",
       "      <td>completed</td>\n",
       "      <td>19.34</td>\n",
       "      <td>4</td>\n",
       "      <td>0</td>\n",
       "      <td>14.323746</td>\n",
       "    </tr>\n",
       "    <tr>\n",
       "      <th>2987</th>\n",
       "      <td>D030</td>\n",
       "      <td>R2988</td>\n",
       "      <td>10/7/2025 15:33</td>\n",
       "      <td>10/7/2025 16:13</td>\n",
       "      <td>4.184369</td>\n",
       "      <td>40</td>\n",
       "      <td>completed</td>\n",
       "      <td>16.60</td>\n",
       "      <td>4</td>\n",
       "      <td>0</td>\n",
       "      <td>9.559386</td>\n",
       "    </tr>\n",
       "    <tr>\n",
       "      <th>2999</th>\n",
       "      <td>D075</td>\n",
       "      <td>R3000</td>\n",
       "      <td>10/16/2025 18:48</td>\n",
       "      <td>10/16/2025 19:46</td>\n",
       "      <td>2.496196</td>\n",
       "      <td>58</td>\n",
       "      <td>completed</td>\n",
       "      <td>15.78</td>\n",
       "      <td>1</td>\n",
       "      <td>0</td>\n",
       "      <td>23.235358</td>\n",
       "    </tr>\n",
       "  </tbody>\n",
       "</table>\n",
       "<p>281 rows × 11 columns</p>\n",
       "</div>"
      ]
     },
     "execution_count": 29,
     "metadata": {},
     "output_type": "execute_result"
    }
   ],
   "execution_count": 29
  },
  {
   "metadata": {
    "ExecuteTime": {
     "end_time": "2025-10-25T06:36:46.297968Z",
     "start_time": "2025-10-25T06:36:46.283574Z"
    }
   },
   "cell_type": "code",
   "source": [
    "########## Scenario 2: Payment Anomalies\n",
    "# Identify rides where payment amount is inconsistent with trip distance.\n",
    "# Possible fraud: fake payments, manipulated fare calculation.\n",
    "\n",
    "df['payment_per_km'] = df['payment_amount'] / df['trip_distance']\n",
    "Q1 = df['payment_per_km'].quantile(0.25)\n",
    "Q3 = df['payment_per_km'].quantile(0.75)\n",
    "IQR = Q3 - Q1\n",
    "lower, upper = Q1 - 1.5*IQR, Q3 + 1.5*IQR\n",
    "suspicious_payment = df[(df['payment_per_km'] < lower) | (df['payment_per_km'] > upper)]"
   ],
   "id": "5edc46905b39c3b8",
   "outputs": [
    {
     "data": {
      "text/plain": [
       "Empty DataFrame\n",
       "Columns: [driver_id, ride_id, pickup_time, dropoff_time, trip_distance, trip_duration, status, payment_amount, rating, fraud_flag, duration_per_km, payment_per_km]\n",
       "Index: []"
      ],
      "text/html": [
       "<div>\n",
       "<style scoped>\n",
       "    .dataframe tbody tr th:only-of-type {\n",
       "        vertical-align: middle;\n",
       "    }\n",
       "\n",
       "    .dataframe tbody tr th {\n",
       "        vertical-align: top;\n",
       "    }\n",
       "\n",
       "    .dataframe thead th {\n",
       "        text-align: right;\n",
       "    }\n",
       "</style>\n",
       "<table border=\"1\" class=\"dataframe\">\n",
       "  <thead>\n",
       "    <tr style=\"text-align: right;\">\n",
       "      <th></th>\n",
       "      <th>driver_id</th>\n",
       "      <th>ride_id</th>\n",
       "      <th>pickup_time</th>\n",
       "      <th>dropoff_time</th>\n",
       "      <th>trip_distance</th>\n",
       "      <th>trip_duration</th>\n",
       "      <th>status</th>\n",
       "      <th>payment_amount</th>\n",
       "      <th>rating</th>\n",
       "      <th>fraud_flag</th>\n",
       "      <th>duration_per_km</th>\n",
       "      <th>payment_per_km</th>\n",
       "    </tr>\n",
       "  </thead>\n",
       "  <tbody>\n",
       "  </tbody>\n",
       "</table>\n",
       "</div>"
      ]
     },
     "execution_count": 31,
     "metadata": {},
     "output_type": "execute_result"
    }
   ],
   "execution_count": 31
  },
  {
   "metadata": {
    "ExecuteTime": {
     "end_time": "2025-10-25T06:37:47.529618Z",
     "start_time": "2025-10-25T06:37:47.521238Z"
    }
   },
   "cell_type": "code",
   "source": [
    "########## Scenario 3: Frequent Short Trips\n",
    "# Detect drivers making many short-distance trips within a short time frame.\n",
    "# May indicate fake self-deliveries or coordinated fraud.\n",
    "short_trips = df[df['trip_distance'] < df['trip_distance'].quantile(0.25)]\n",
    "suspicious_drivers = short_trips['driver_id'].value_counts().head(10)\n",
    "suspicious_drivers"
   ],
   "id": "159344e4a12487b3",
   "outputs": [
    {
     "data": {
      "text/plain": [
       "driver_id\n",
       "D192    10\n",
       "D151     9\n",
       "D019     9\n",
       "D093     8\n",
       "D121     8\n",
       "D052     8\n",
       "D182     7\n",
       "D075     7\n",
       "D106     7\n",
       "D181     7\n",
       "Name: count, dtype: int64"
      ]
     },
     "execution_count": 33,
     "metadata": {},
     "output_type": "execute_result"
    }
   ],
   "execution_count": 33
  },
  {
   "metadata": {
    "ExecuteTime": {
     "end_time": "2025-10-25T06:38:46.166726Z",
     "start_time": "2025-10-25T06:38:46.152174Z"
    }
   },
   "cell_type": "code",
   "source": [
    "########## Scenario 4: Abnormal Ratings After Trips\n",
    "# Analyze driver ratings for extreme values following suspicious trips.\n",
    "# Low or consistently perfect ratings might indicate manipulative behavior.\n",
    "\n",
    "rating_stats = df.groupby('driver_id')['rating'].agg(['mean', 'count'])\n",
    "suspicious_ratings = rating_stats[(rating_stats['mean'] < 2.5) | (rating_stats['mean'] > 4.9)]\n",
    "suspicious_ratings"
   ],
   "id": "a63d2ea20116c297",
   "outputs": [
    {
     "data": {
      "text/plain": [
       "               mean  count\n",
       "driver_id                 \n",
       "D015       1.833333      6\n",
       "D018       2.250000     16\n",
       "D019       2.363636     22\n",
       "D022       2.400000     10\n",
       "D032       2.428571     14\n",
       "D035       2.000000     14\n",
       "D043       2.444444      9\n",
       "D051       2.333333      9\n",
       "D069       2.266667     15\n",
       "D086       2.181818     11\n",
       "D112       2.416667     12\n",
       "D114       2.437500     16\n",
       "D129       2.294118     17\n",
       "D141       2.285714     14\n",
       "D157       2.384615     13\n",
       "D160       2.416667     12\n",
       "D161       2.333333     18\n",
       "D177       2.461538     13\n",
       "D185       1.500000     10\n",
       "D187       2.363636     11\n",
       "D190       2.111111      9"
      ],
      "text/html": [
       "<div>\n",
       "<style scoped>\n",
       "    .dataframe tbody tr th:only-of-type {\n",
       "        vertical-align: middle;\n",
       "    }\n",
       "\n",
       "    .dataframe tbody tr th {\n",
       "        vertical-align: top;\n",
       "    }\n",
       "\n",
       "    .dataframe thead th {\n",
       "        text-align: right;\n",
       "    }\n",
       "</style>\n",
       "<table border=\"1\" class=\"dataframe\">\n",
       "  <thead>\n",
       "    <tr style=\"text-align: right;\">\n",
       "      <th></th>\n",
       "      <th>mean</th>\n",
       "      <th>count</th>\n",
       "    </tr>\n",
       "    <tr>\n",
       "      <th>driver_id</th>\n",
       "      <th></th>\n",
       "      <th></th>\n",
       "    </tr>\n",
       "  </thead>\n",
       "  <tbody>\n",
       "    <tr>\n",
       "      <th>D015</th>\n",
       "      <td>1.833333</td>\n",
       "      <td>6</td>\n",
       "    </tr>\n",
       "    <tr>\n",
       "      <th>D018</th>\n",
       "      <td>2.250000</td>\n",
       "      <td>16</td>\n",
       "    </tr>\n",
       "    <tr>\n",
       "      <th>D019</th>\n",
       "      <td>2.363636</td>\n",
       "      <td>22</td>\n",
       "    </tr>\n",
       "    <tr>\n",
       "      <th>D022</th>\n",
       "      <td>2.400000</td>\n",
       "      <td>10</td>\n",
       "    </tr>\n",
       "    <tr>\n",
       "      <th>D032</th>\n",
       "      <td>2.428571</td>\n",
       "      <td>14</td>\n",
       "    </tr>\n",
       "    <tr>\n",
       "      <th>D035</th>\n",
       "      <td>2.000000</td>\n",
       "      <td>14</td>\n",
       "    </tr>\n",
       "    <tr>\n",
       "      <th>D043</th>\n",
       "      <td>2.444444</td>\n",
       "      <td>9</td>\n",
       "    </tr>\n",
       "    <tr>\n",
       "      <th>D051</th>\n",
       "      <td>2.333333</td>\n",
       "      <td>9</td>\n",
       "    </tr>\n",
       "    <tr>\n",
       "      <th>D069</th>\n",
       "      <td>2.266667</td>\n",
       "      <td>15</td>\n",
       "    </tr>\n",
       "    <tr>\n",
       "      <th>D086</th>\n",
       "      <td>2.181818</td>\n",
       "      <td>11</td>\n",
       "    </tr>\n",
       "    <tr>\n",
       "      <th>D112</th>\n",
       "      <td>2.416667</td>\n",
       "      <td>12</td>\n",
       "    </tr>\n",
       "    <tr>\n",
       "      <th>D114</th>\n",
       "      <td>2.437500</td>\n",
       "      <td>16</td>\n",
       "    </tr>\n",
       "    <tr>\n",
       "      <th>D129</th>\n",
       "      <td>2.294118</td>\n",
       "      <td>17</td>\n",
       "    </tr>\n",
       "    <tr>\n",
       "      <th>D141</th>\n",
       "      <td>2.285714</td>\n",
       "      <td>14</td>\n",
       "    </tr>\n",
       "    <tr>\n",
       "      <th>D157</th>\n",
       "      <td>2.384615</td>\n",
       "      <td>13</td>\n",
       "    </tr>\n",
       "    <tr>\n",
       "      <th>D160</th>\n",
       "      <td>2.416667</td>\n",
       "      <td>12</td>\n",
       "    </tr>\n",
       "    <tr>\n",
       "      <th>D161</th>\n",
       "      <td>2.333333</td>\n",
       "      <td>18</td>\n",
       "    </tr>\n",
       "    <tr>\n",
       "      <th>D177</th>\n",
       "      <td>2.461538</td>\n",
       "      <td>13</td>\n",
       "    </tr>\n",
       "    <tr>\n",
       "      <th>D185</th>\n",
       "      <td>1.500000</td>\n",
       "      <td>10</td>\n",
       "    </tr>\n",
       "    <tr>\n",
       "      <th>D187</th>\n",
       "      <td>2.363636</td>\n",
       "      <td>11</td>\n",
       "    </tr>\n",
       "    <tr>\n",
       "      <th>D190</th>\n",
       "      <td>2.111111</td>\n",
       "      <td>9</td>\n",
       "    </tr>\n",
       "  </tbody>\n",
       "</table>\n",
       "</div>"
      ]
     },
     "execution_count": 35,
     "metadata": {},
     "output_type": "execute_result"
    }
   ],
   "execution_count": 35
  },
  {
   "metadata": {
    "ExecuteTime": {
     "end_time": "2025-10-25T06:40:24.425323Z",
     "start_time": "2025-10-25T06:40:24.393078Z"
    }
   },
   "cell_type": "code",
   "source": [
    "########## Scenario 5: Cancelled or Incomplete Trips\n",
    "# Identify drivers with high rates of cancelled or incomplete rides.\n",
    "# High cancellation ratio may indicate misuse of the system or fake bookings.\n",
    "\n",
    "cancel_ratio = df.groupby('driver_id')['status'].apply(lambda x: (x == 'cancelled').mean())\n",
    "suspicious_cancel = cancel_ratio[cancel_ratio > 0.3]\n",
    "suspicious_cancel"
   ],
   "id": "26d2a8d352df80db",
   "outputs": [
    {
     "data": {
      "text/plain": [
       "Series([], Name: status, dtype: float64)"
      ]
     },
     "execution_count": 37,
     "metadata": {},
     "output_type": "execute_result"
    }
   ],
   "execution_count": 37
  },
  {
   "metadata": {
    "ExecuteTime": {
     "end_time": "2025-10-25T07:29:14.706922Z",
     "start_time": "2025-10-25T07:29:14.441105Z"
    }
   },
   "cell_type": "code",
   "source": [
    "plt.figure(figsize=(8,6))\n",
    "corr = df[['trip_distance','trip_duration','payment_amount','fraud_flag']].corr()\n",
    "sns.heatmap(corr, annot=True, cmap='coolwarm')\n",
    "plt.title('Correlation Heatmap')\n",
    "plt.show()\n"
   ],
   "id": "f239cbd119962e62",
   "outputs": [
    {
     "data": {
      "text/plain": [
       "<Figure size 800x600 with 2 Axes>"
      ],
      "image/png": "[encoded data removed]"
     },
     "metadata": {},
     "output_type": "display_data"
    }
   ],
   "execution_count": 42
  }
 ],
 "metadata": {
  "kernelspec": {
   "display_name": "Python 3",
   "language": "python",
   "name": "python3"
  },
  "language_info": {
   "codemirror_mode": {
    "name": "ipython",
    "version": 2
   },
   "file_extension": ".py",
   "mimetype": "text/x-python",
   "name": "python",
   "nbconvert_exporter": "python",
   "pygments_lexer": "ipython2",
   "version": "2.7.6"
  }
 },
 "nbformat": 4,
 "nbformat_minor": 5
}
